{
 "cells": [
  {
   "cell_type": "code",
   "execution_count": 1,
   "metadata": {
    "colab": {},
    "colab_type": "code",
    "id": "ePZMmyb5XzaR"
   },
   "outputs": [
    {
     "name": "stderr",
     "output_type": "stream",
     "text": [
      "/Users/bhavyashahi/anaconda3/lib/python3.6/site-packages/h5py/__init__.py:36: FutureWarning: Conversion of the second argument of issubdtype from `float` to `np.floating` is deprecated. In future, it will be treated as `np.float64 == np.dtype(float).type`.\n",
      "  from ._conv import register_converters as _register_converters\n"
     ]
    }
   ],
   "source": [
    "#UNI- bs3118\n",
    "#import statements\n",
    "import matplotlib.pyplot as plt\n",
    "import numpy as np\n",
    "import os\n",
    "\n",
    "import tensorflow as tf\n",
    "import zipfile\n",
    "\n",
    "from tensorflow.keras.applications import VGG16\n",
    "from tensorflow.keras.layers import Conv2D, Dense, Dropout, Flatten, MaxPooling2D\n",
    "from tensorflow.keras.models import Sequential\n",
    "from tensorflow.keras.preprocessing.image import ImageDataGenerator"
   ]
  },
  {
   "cell_type": "markdown",
   "metadata": {},
   "source": [
    "The dataset is split into training, testing and validation. We use InceptionResNet network as the second application. The accuracy achieved for validation is 95.26%. The testing data gives a 98.03% accuracy. The Inception network has about 61 million parameters which is very large compared to MobileNet which gives us a comparable accuracy and has far fewer parameters.\n",
    "The other two notebooks contain code for MobileNet and VGG."
   ]
  },
  {
   "cell_type": "code",
   "execution_count": null,
   "metadata": {},
   "outputs": [],
   "source": [
    "#code to download the dataset zip from my Google Drive\n",
    "from google.colab import drive\n",
    "drive.mount('/content/gdrive')\n",
    "\n",
    "!unzip \"/content/gdrive/My Drive/Colab Notebooks/dataset.zip\""
   ]
  },
  {
   "cell_type": "code",
   "execution_count": 16,
   "metadata": {},
   "outputs": [
    {
     "name": "stdout",
     "output_type": "stream",
     "text": [
      "Training alma images: 357\n",
      "Training lion images: 436\n",
      "Training thinker images: 301\n",
      "Test alma images: 149\n",
      "Test lion images: 182\n",
      "Test thinker images: 126\n",
      "Validation alma images: 89\n",
      "Validation lion images: 109\n",
      "Validation thinker images: 76\n",
      "Total training images: 1094\n",
      "Total validation images: 274\n",
      "Total test images: 457\n"
     ]
    }
   ],
   "source": [
    "base_dir = '/content/dataset/'\n",
    "\n",
    "train_dir = os.path.join(base_dir, 'train')\n",
    "validation_dir = os.path.join(base_dir, 'val')\n",
    "test_dir = os.path.join(base_dir, 'test')\n",
    "\n",
    "train_alma_dir = os.path.join(train_dir, 'alma')\n",
    "train_lion_dir = os.path.join(train_dir, 'lion')\n",
    "train_thinker_dir = os.path.join(train_dir, 'thinker')\n",
    "\n",
    "\n",
    "validation_alma_dir = os.path.join(validation_dir, 'alma')\n",
    "validation_lion_dir = os.path.join(validation_dir, 'lion')\n",
    "validation_thinker_dir = os.path.join(validation_dir, 'thinker')\n",
    "\n",
    "test_alma_dir = os.path.join(test_dir, 'alma')\n",
    "test_lion_dir = os.path.join(test_dir, 'lion')\n",
    "test_thinker_dir = os.path.join(test_dir, 'thinker')\n",
    "\n",
    "\n",
    "num_alma_tr = len(os.listdir(train_alma_dir))\n",
    "num_lion_tr = len(os.listdir(train_lion_dir))\n",
    "num_thinker_tr = len(os.listdir(train_thinker_dir))\n",
    "\n",
    "num_alma_test = len(os.listdir(test_alma_dir))\n",
    "num_lion_test = len(os.listdir(test_lion_dir))\n",
    "num_thinker_test = len(os.listdir(test_thinker_dir))\n",
    "\n",
    "num_alma_val = len(os.listdir(validation_alma_dir))\n",
    "num_lion_val = len(os.listdir(validation_lion_dir))\n",
    "num_thinker_val = len(os.listdir(validation_thinker_dir))\n",
    "\n",
    "\n",
    "total_train = num_alma_tr + num_lion_tr + num_thinker_tr \n",
    "total_val = num_alma_val + num_lion_val + num_thinker_val \n",
    "total_test = num_alma_test + num_lion_test + num_thinker_test \n",
    "\n",
    "print('Training alma images:', num_alma_tr)\n",
    "print('Training lion images:', num_lion_tr)\n",
    "print('Training thinker images:', num_thinker_tr)\n",
    "\n",
    "print('Test alma images:', num_alma_test)\n",
    "print('Test lion images:', num_lion_test)\n",
    "print('Test thinker images:', num_thinker_test)\n",
    "\n",
    "print('Validation alma images:', num_alma_val)\n",
    "print('Validation lion images:', num_lion_val)\n",
    "print('Validation thinker images:', num_thinker_val)\n",
    "\n",
    "\n",
    "print(\"Total training images:\", total_train)\n",
    "print(\"Total validation images:\", total_val)\n",
    "print(\"Total test images:\", total_test)"
   ]
  },
  {
   "cell_type": "code",
   "execution_count": 12,
   "metadata": {},
   "outputs": [
    {
     "name": "stdout",
     "output_type": "stream",
     "text": [
      "_________________________________________________________________\n",
      "Layer (type)                 Output Shape              Param #   \n",
      "=================================================================\n",
      "inception_resnet_v2 (Model)  (None, 3, 3, 1536)        54336736  \n",
      "_________________________________________________________________\n",
      "flatten_1 (Flatten)          (None, 13824)             0         \n",
      "_________________________________________________________________\n",
      "dense_2 (Dense)              (None, 512)               7078400   \n",
      "_________________________________________________________________\n",
      "dense_3 (Dense)              (None, 3)                 1539      \n",
      "=================================================================\n",
      "Total params: 61,416,675\n",
      "Trainable params: 61,356,131\n",
      "Non-trainable params: 60,544\n",
      "_________________________________________________________________\n",
      "Found 1093 images belonging to 3 classes.\n",
      "Found 274 images belonging to 3 classes.\n",
      "Epoch 1/30\n",
      " - 120s - loss: 1.4852 - acc: 0.6757 - val_loss: 0.5197 - val_acc: 0.8759\n",
      "Epoch 2/30\n",
      " - 85s - loss: 0.1590 - acc: 0.9518 - val_loss: 0.2420 - val_acc: 0.9380\n",
      "Epoch 3/30\n",
      " - 86s - loss: 0.2874 - acc: 0.9095 - val_loss: 0.1963 - val_acc: 0.9489\n",
      "Epoch 4/30\n",
      " - 88s - loss: 0.2713 - acc: 0.9225 - val_loss: 0.1645 - val_acc: 0.9453\n",
      "Epoch 5/30\n",
      " - 97s - loss: 0.1778 - acc: 0.9410 - val_loss: 0.1332 - val_acc: 0.9635\n",
      "Epoch 6/30\n",
      " - 94s - loss: 0.2806 - acc: 0.9185 - val_loss: 0.5177 - val_acc: 0.8723\n",
      "Epoch 7/30\n",
      " - 95s - loss: 0.3702 - acc: 0.9060 - val_loss: 0.1320 - val_acc: 0.9599\n",
      "Epoch 8/30\n",
      " - 92s - loss: 0.2258 - acc: 0.9337 - val_loss: 0.2574 - val_acc: 0.9234\n",
      "Epoch 9/30\n",
      " - 91s - loss: 0.1784 - acc: 0.9390 - val_loss: 0.7271 - val_acc: 0.8504\n",
      "Epoch 10/30\n",
      " - 91s - loss: 0.2560 - acc: 0.9232 - val_loss: 0.0634 - val_acc: 0.9818\n",
      "Epoch 11/30\n",
      " - 90s - loss: 0.1941 - acc: 0.9435 - val_loss: 0.0743 - val_acc: 0.9708\n",
      "Epoch 12/30\n",
      " - 90s - loss: 0.2564 - acc: 0.9238 - val_loss: 0.1569 - val_acc: 0.9708\n",
      "Epoch 13/30\n",
      " - 95s - loss: 0.2635 - acc: 0.9267 - val_loss: 0.1538 - val_acc: 0.9818\n",
      "Epoch 14/30\n",
      " - 91s - loss: 0.0770 - acc: 0.9732 - val_loss: 0.1361 - val_acc: 0.9781\n",
      "Epoch 15/30\n",
      " - 90s - loss: 0.1002 - acc: 0.9723 - val_loss: 0.1371 - val_acc: 0.9927\n",
      "Epoch 16/30\n",
      " - 95s - loss: 0.2897 - acc: 0.9162 - val_loss: 0.0757 - val_acc: 0.9891\n",
      "Epoch 17/30\n",
      " - 93s - loss: 0.1076 - acc: 0.9660 - val_loss: 0.1065 - val_acc: 0.9891\n",
      "Epoch 18/30\n",
      " - 93s - loss: 0.0749 - acc: 0.9750 - val_loss: 0.0892 - val_acc: 0.9891\n",
      "Epoch 19/30\n",
      " - 92s - loss: 0.2170 - acc: 0.9406 - val_loss: 0.0915 - val_acc: 0.9781\n",
      "Epoch 20/30\n",
      " - 90s - loss: 0.1816 - acc: 0.9477 - val_loss: 0.0850 - val_acc: 0.9891\n",
      "Epoch 21/30\n",
      " - 91s - loss: 0.2110 - acc: 0.9397 - val_loss: 0.0939 - val_acc: 0.9818\n",
      "Epoch 22/30\n",
      " - 92s - loss: 0.2291 - acc: 0.9477 - val_loss: 0.0324 - val_acc: 0.9891\n",
      "Epoch 23/30\n",
      " - 91s - loss: 0.1185 - acc: 0.9625 - val_loss: 0.0838 - val_acc: 0.9745\n",
      "Epoch 24/30\n",
      " - 94s - loss: 0.1168 - acc: 0.9721 - val_loss: 0.0173 - val_acc: 0.9964\n",
      "Epoch 25/30\n",
      " - 88s - loss: 0.1156 - acc: 0.9732 - val_loss: 0.0126 - val_acc: 0.9964\n",
      "Epoch 26/30\n",
      " - 95s - loss: 0.0845 - acc: 0.9750 - val_loss: 0.0698 - val_acc: 0.9927\n",
      "Epoch 27/30\n",
      " - 87s - loss: 0.0641 - acc: 0.9759 - val_loss: 0.0776 - val_acc: 0.9891\n",
      "Epoch 28/30\n",
      " - 86s - loss: 0.1424 - acc: 0.9605 - val_loss: 0.1532 - val_acc: 0.9672\n",
      "Epoch 29/30\n",
      " - 89s - loss: 0.2106 - acc: 0.9341 - val_loss: 0.0309 - val_acc: 0.9891\n",
      "Epoch 30/30\n",
      " - 86s - loss: 0.3181 - acc: 0.9145 - val_loss: 0.1775 - val_acc: 0.9526\n"
     ]
    },
    {
     "data": {
      "image/png": "[encoded data removed]",
      "text/plain": [
       "<Figure size 576x576 with 2 Axes>"
      ]
     },
     "metadata": {},
     "output_type": "display_data"
    }
   ],
   "source": [
    "from tensorflow.keras.applications import InceptionResNetV2\n",
    "#We use Inception as the base convolution net\n",
    "conv_base = InceptionResNetV2(include_top=False, weights='imagenet',input_shape=(150,150,3), classes=3)\n",
    "model = Sequential()\n",
    "model.add(conv_base)\n",
    "model.add(Flatten())\n",
    "model.add(Dense(512, activation='relu'))\n",
    "#changed for 3 classes, and the activation function is changed to sofmax for categorical \n",
    "model.add(Dense(3, activation='softmax'))\n",
    "model.summary()\n",
    "conv_base.trainable = False\n",
    "TARGET_SHAPE = 150\n",
    "BATCH_SIZE = 32\n",
    "EPOCHS=30\n",
    "image_gen_train = ImageDataGenerator(\n",
    "      rescale=1./255,\n",
    "      rotation_range=40,\n",
    "      width_shift_range=0.2,\n",
    "      height_shift_range=0.2,\n",
    "      shear_range=0.2,\n",
    "      zoom_range=0.2,\n",
    "      horizontal_flip=True,\n",
    "      fill_mode='nearest')\n",
    "#mode is changed to categorical in training and validation\n",
    "train_data_gen = image_gen_train.flow_from_directory(\n",
    "    batch_size=BATCH_SIZE, \n",
    "    directory=train_dir, \n",
    "    shuffle=True, \n",
    "    target_size=(TARGET_SHAPE,TARGET_SHAPE),\n",
    "    class_mode='categorical')\n",
    "\n",
    "# Validation data should not be augmented!\n",
    "image_gen_val = ImageDataGenerator(rescale=1./255)\n",
    "val_data_gen = image_gen_val.flow_from_directory(\n",
    "    batch_size=BATCH_SIZE, \n",
    "    directory=validation_dir, \n",
    "    target_size=(TARGET_SHAPE, TARGET_SHAPE),\n",
    "    class_mode='categorical')\n",
    "model.compile(loss='categorical_crossentropy',\n",
    "              optimizer='adam',\n",
    "              metrics=['acc'])\n",
    "\n",
    "history = model.fit_generator(\n",
    "      train_data_gen,\n",
    "      steps_per_epoch=int(np.ceil(total_train / float(BATCH_SIZE))),\n",
    "      epochs=EPOCHS,\n",
    "      validation_data=val_data_gen,\n",
    "      validation_steps=int(np.ceil(total_val / float(BATCH_SIZE))),\n",
    "      verbose=2)\n",
    "acc = history.history['acc']\n",
    "val_acc = history.history['val_acc']\n",
    "\n",
    "loss = history.history['loss']\n",
    "val_loss = history.history['val_loss']\n",
    "\n",
    "epochs_range = range(1, EPOCHS+1)\n",
    "\n",
    "plt.figure(figsize=(8, 8))\n",
    "plt.subplot(1, 2, 1)\n",
    "plt.plot(epochs_range, acc, label='Training Accuracy')\n",
    "plt.plot(epochs_range, val_acc, label='Validation Accuracy')\n",
    "plt.legend(loc='lower right')\n",
    "plt.title('Training and Validation Accuracy')\n",
    "\n",
    "plt.subplot(1, 2, 2)\n",
    "plt.plot(epochs_range, loss, label='Training Loss')\n",
    "plt.plot(epochs_range, val_loss, label='Validation Loss')\n",
    "plt.legend(loc='upper right')\n",
    "plt.title('Training and Validation Loss')\n",
    "plt.show()"
   ]
  },
  {
   "cell_type": "code",
   "execution_count": 13,
   "metadata": {},
   "outputs": [
    {
     "name": "stdout",
     "output_type": "stream",
     "text": [
      "Found 457 images belonging to 3 classes.\n",
      "15/15 [==============================] - 29s 2s/step\n"
     ]
    },
    {
     "data": {
      "text/plain": [
       "[0.07310381769742695, 0.9803063458634675]"
      ]
     },
     "execution_count": 13,
     "metadata": {},
     "output_type": "execute_result"
    }
   ],
   "source": [
    "#The test data is used to evaluate the final model .The accuracy achieved is 98%\n",
    "image_gen_val = ImageDataGenerator(rescale=1./255)\n",
    "test_data_gen = image_gen_val.flow_from_directory(\n",
    "    batch_size=BATCH_SIZE, \n",
    "    directory=test_dir, \n",
    "    target_size=(TARGET_SHAPE, TARGET_SHAPE),\n",
    "    class_mode='categorical')\n",
    "model.evaluate(test_data_gen)"
   ]
  },
  {
   "cell_type": "code",
   "execution_count": null,
   "metadata": {},
   "outputs": [],
   "source": []
  }
 ],
 "metadata": {
  "colab": {
   "name": "Untitled0.ipynb",
   "provenance": [],
   "version": "0.3.2"
  },
  "kernelspec": {
   "display_name": "Python 3",
   "language": "python",
   "name": "python3"
  },
  "language_info": {
   "codemirror_mode": {
    "name": "ipython",
    "version": 3
   },
   "file_extension": ".py",
   "mimetype": "text/x-python",
   "name": "python",
   "nbconvert_exporter": "python",
   "pygments_lexer": "ipython3",
   "version": "3.6.5"
  }
 },
 "nbformat": 4,
 "nbformat_minor": 1
}
